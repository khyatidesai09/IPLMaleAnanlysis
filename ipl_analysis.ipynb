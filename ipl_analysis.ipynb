{
 "cells": [
  {
   "cell_type": "markdown",
   "id": "c73babc0",
   "metadata": {},
   "source": [
    "# IPL Male Analysis"
   ]
  },
  {
   "cell_type": "code",
   "execution_count": 1,
   "id": "f4f4d910",
   "metadata": {},
   "outputs": [],
   "source": [
    "# importing libraries\n",
    "\n",
    "import numpy as np\n",
    "import pandas as pd\n",
    "import matplotlib.pyplot as plt\n",
    "import seaborn as sns\n",
    "import math\n",
    "import glob\n",
    "import csv"
   ]
  },
  {
   "cell_type": "code",
   "execution_count": 2,
   "id": "4431fc82",
   "metadata": {},
   "outputs": [],
   "source": [
    "# setting display options for output\n",
    "\n",
    "pd.set_option('display.max_columns', 500)\n",
    "pd.set_option('display.max_rows', 500)\n",
    "sns.set_theme()"
   ]
  },
  {
   "cell_type": "markdown",
   "id": "63222843",
   "metadata": {},
   "source": [
    "## 1. Reading and Understanding the data"
   ]
  },
  {
   "cell_type": "code",
   "execution_count": 3,
   "id": "5e7c2049",
   "metadata": {},
   "outputs": [],
   "source": [
    "# function definitions\n",
    "\n",
    "def get_match_date(filename):\n",
    "    with open(filename) as file_obj:\n",
    "        reader_obj = csv.DictReader(file_obj)\n",
    "        heading = next(file_obj)\n",
    "        \n",
    "        for i,row in enumerate(reader_obj,1):\n",
    "            if i==5:\n",
    "                return pd.to_datetime(row['6'])"
   ]
  },
  {
   "cell_type": "code",
   "execution_count": 79,
   "id": "afef218b",
   "metadata": {},
   "outputs": [],
   "source": [
    "# reading csv files and storing in df\n",
    "file_list = glob.glob(\"*.csv\")\n",
    "file_list = list(map(lambda x : int(x[:-4]),file_list))\n",
    "file_list.sort()\n",
    "\n",
    "# fetching match date from the same file using another way\n",
    "main_dataframe = pd.read_csv(str(file_list[0])+\".csv\",skiprows=70,on_bad_lines='skip',header=None)\n",
    "main_dataframe['match_date'] = get_match_date(str(file_list[0])+\".csv\")\n",
    "\n",
    "# assigning match number\n",
    "main_dataframe['match_number'] = 1\n",
    "\n",
    "# merging next files' dataframes with 1st df \n",
    "for j in range(1,len(file_list)):\n",
    "    with open(str(file_list[j])+\".csv\") as file_obj:\n",
    "            reader_obj = csv.DictReader(file_obj)\n",
    "            heading = next(file_obj)\n",
    "\n",
    "            for i,row in enumerate(reader_obj,1):\n",
    "                if i==5:\n",
    "                    date_data = pd.to_datetime(row['6'])\n",
    "                if row['info']=='ball':\n",
    "                    data = pd.read_csv(str(file_list[j])+\".csv\",skiprows=i+1,on_bad_lines='skip',header=None)\n",
    "                    data['match_date'] = date_data\n",
    "                    data['match_number'] = j+1\n",
    "                    main_dataframe = pd.concat([main_dataframe,data])\n",
    "                    break\n",
    "                    \n",
    "# assigning column name\n",
    "main_dataframe.columns=['type_of_data','innings','over_and_ball','batting_team','batsman','non_striker','bowler','runs_off_bat','extras','wides','no_balls','byes','leg_byes','penalty','kind_of_wicket','dismissed_player','match_date','match_number']"
   ]
  },
  {
   "cell_type": "code",
   "execution_count": 81,
   "id": "f21f9c9c",
   "metadata": {},
   "outputs": [
    {
     "data": {
      "text/html": [
       "<div>\n",
       "<style scoped>\n",
       "    .dataframe tbody tr th:only-of-type {\n",
       "        vertical-align: middle;\n",
       "    }\n",
       "\n",
       "    .dataframe tbody tr th {\n",
       "        vertical-align: top;\n",
       "    }\n",
       "\n",
       "    .dataframe thead th {\n",
       "        text-align: right;\n",
       "    }\n",
       "</style>\n",
       "<table border=\"1\" class=\"dataframe\">\n",
       "  <thead>\n",
       "    <tr style=\"text-align: right;\">\n",
       "      <th></th>\n",
       "      <th>type_of_data</th>\n",
       "      <th>innings</th>\n",
       "      <th>over_and_ball</th>\n",
       "      <th>batting_team</th>\n",
       "      <th>batsman</th>\n",
       "      <th>non_striker</th>\n",
       "      <th>bowler</th>\n",
       "      <th>runs_off_bat</th>\n",
       "      <th>extras</th>\n",
       "      <th>wides</th>\n",
       "      <th>no_balls</th>\n",
       "      <th>byes</th>\n",
       "      <th>leg_byes</th>\n",
       "      <th>penalty</th>\n",
       "      <th>kind_of_wicket</th>\n",
       "      <th>dismissed_player</th>\n",
       "      <th>match_date</th>\n",
       "      <th>match_number</th>\n",
       "    </tr>\n",
       "  </thead>\n",
       "  <tbody>\n",
       "    <tr>\n",
       "      <th>0</th>\n",
       "      <td>ball</td>\n",
       "      <td>1</td>\n",
       "      <td>0.1</td>\n",
       "      <td>Kolkata Knight Riders</td>\n",
       "      <td>SC Ganguly</td>\n",
       "      <td>BB McCullum</td>\n",
       "      <td>P Kumar</td>\n",
       "      <td>0</td>\n",
       "      <td>1</td>\n",
       "      <td>NaN</td>\n",
       "      <td>NaN</td>\n",
       "      <td>NaN</td>\n",
       "      <td>1.0</td>\n",
       "      <td>NaN</td>\n",
       "      <td>NaN</td>\n",
       "      <td>NaN</td>\n",
       "      <td>2008-04-18</td>\n",
       "      <td>1</td>\n",
       "    </tr>\n",
       "    <tr>\n",
       "      <th>1</th>\n",
       "      <td>ball</td>\n",
       "      <td>1</td>\n",
       "      <td>0.2</td>\n",
       "      <td>Kolkata Knight Riders</td>\n",
       "      <td>BB McCullum</td>\n",
       "      <td>SC Ganguly</td>\n",
       "      <td>P Kumar</td>\n",
       "      <td>0</td>\n",
       "      <td>0</td>\n",
       "      <td>NaN</td>\n",
       "      <td>NaN</td>\n",
       "      <td>NaN</td>\n",
       "      <td>NaN</td>\n",
       "      <td>NaN</td>\n",
       "      <td>NaN</td>\n",
       "      <td>NaN</td>\n",
       "      <td>2008-04-18</td>\n",
       "      <td>1</td>\n",
       "    </tr>\n",
       "    <tr>\n",
       "      <th>2</th>\n",
       "      <td>ball</td>\n",
       "      <td>1</td>\n",
       "      <td>0.3</td>\n",
       "      <td>Kolkata Knight Riders</td>\n",
       "      <td>BB McCullum</td>\n",
       "      <td>SC Ganguly</td>\n",
       "      <td>P Kumar</td>\n",
       "      <td>0</td>\n",
       "      <td>1</td>\n",
       "      <td>1.0</td>\n",
       "      <td>NaN</td>\n",
       "      <td>NaN</td>\n",
       "      <td>NaN</td>\n",
       "      <td>NaN</td>\n",
       "      <td>NaN</td>\n",
       "      <td>NaN</td>\n",
       "      <td>2008-04-18</td>\n",
       "      <td>1</td>\n",
       "    </tr>\n",
       "    <tr>\n",
       "      <th>3</th>\n",
       "      <td>ball</td>\n",
       "      <td>1</td>\n",
       "      <td>0.4</td>\n",
       "      <td>Kolkata Knight Riders</td>\n",
       "      <td>BB McCullum</td>\n",
       "      <td>SC Ganguly</td>\n",
       "      <td>P Kumar</td>\n",
       "      <td>0</td>\n",
       "      <td>0</td>\n",
       "      <td>NaN</td>\n",
       "      <td>NaN</td>\n",
       "      <td>NaN</td>\n",
       "      <td>NaN</td>\n",
       "      <td>NaN</td>\n",
       "      <td>NaN</td>\n",
       "      <td>NaN</td>\n",
       "      <td>2008-04-18</td>\n",
       "      <td>1</td>\n",
       "    </tr>\n",
       "    <tr>\n",
       "      <th>4</th>\n",
       "      <td>ball</td>\n",
       "      <td>1</td>\n",
       "      <td>0.5</td>\n",
       "      <td>Kolkata Knight Riders</td>\n",
       "      <td>BB McCullum</td>\n",
       "      <td>SC Ganguly</td>\n",
       "      <td>P Kumar</td>\n",
       "      <td>0</td>\n",
       "      <td>0</td>\n",
       "      <td>NaN</td>\n",
       "      <td>NaN</td>\n",
       "      <td>NaN</td>\n",
       "      <td>NaN</td>\n",
       "      <td>NaN</td>\n",
       "      <td>NaN</td>\n",
       "      <td>NaN</td>\n",
       "      <td>2008-04-18</td>\n",
       "      <td>1</td>\n",
       "    </tr>\n",
       "  </tbody>\n",
       "</table>\n",
       "</div>"
      ],
      "text/plain": [
       "  type_of_data  innings  over_and_ball           batting_team      batsman  \\\n",
       "0         ball        1            0.1  Kolkata Knight Riders   SC Ganguly   \n",
       "1         ball        1            0.2  Kolkata Knight Riders  BB McCullum   \n",
       "2         ball        1            0.3  Kolkata Knight Riders  BB McCullum   \n",
       "3         ball        1            0.4  Kolkata Knight Riders  BB McCullum   \n",
       "4         ball        1            0.5  Kolkata Knight Riders  BB McCullum   \n",
       "\n",
       "   non_striker   bowler  runs_off_bat  extras  wides  no_balls  byes  \\\n",
       "0  BB McCullum  P Kumar             0       1    NaN       NaN   NaN   \n",
       "1   SC Ganguly  P Kumar             0       0    NaN       NaN   NaN   \n",
       "2   SC Ganguly  P Kumar             0       1    1.0       NaN   NaN   \n",
       "3   SC Ganguly  P Kumar             0       0    NaN       NaN   NaN   \n",
       "4   SC Ganguly  P Kumar             0       0    NaN       NaN   NaN   \n",
       "\n",
       "   leg_byes  penalty kind_of_wicket dismissed_player match_date  match_number  \n",
       "0       1.0      NaN            NaN              NaN 2008-04-18             1  \n",
       "1       NaN      NaN            NaN              NaN 2008-04-18             1  \n",
       "2       NaN      NaN            NaN              NaN 2008-04-18             1  \n",
       "3       NaN      NaN            NaN              NaN 2008-04-18             1  \n",
       "4       NaN      NaN            NaN              NaN 2008-04-18             1  "
      ]
     },
     "execution_count": 81,
     "metadata": {},
     "output_type": "execute_result"
    }
   ],
   "source": [
    "# check if data fetched properly\n",
    "\n",
    "main_dataframe.head()"
   ]
  },
  {
   "cell_type": "code",
   "execution_count": 82,
   "id": "74027e76",
   "metadata": {},
   "outputs": [],
   "source": [
    "# reading csv files and storing in df\n",
    "\n",
    "# file_list = glob.glob(\"*.csv\")\n",
    "#file_list = list(map(lambda x : int(x[:-4]),file_list))\n",
    "#file_list.sort()\n",
    "#main_dataframe = pd.read_csv(str(file_list[0])+\".csv\",skiprows=70,on_bad_lines='skip',header=None)\n",
    "\n",
    "# fetching match date from the same file using another way\n",
    "#main_dataframe['match_date'] = get_match_date(str(file_list[0])+\".csv\")\n",
    "\n",
    "# assigning match number\n",
    "#main_dataframe['match_number'] = 1\n",
    "\n",
    "# merging next files' dataframes with 1st df \n",
    "#for i in range(1,len(file_list)):\n",
    " #   data = pd.read_csv(str(file_list[i])+\".csv\",skiprows=70,on_bad_lines='skip',header=None)\n",
    "  #  data['match_date'] = get_match_date(str(file_list[i])+\".csv\")\n",
    "   # data['match_number'] = i+1\n",
    "    #main_dataframe = pd.concat([main_dataframe,data])\n",
    "\n",
    "# assigning column name\n",
    "#main_dataframe.columns=['type_of_data','innings','over_and_ball','batting_team','batsman','non_striker','bowler','runs_off_bat','extras','wides','no_balls','byes','leg_byes','penalty','kind_of_wicket','dismissed_player','match_date','match_number']"
   ]
  },
  {
   "cell_type": "code",
   "execution_count": 84,
   "id": "6d024254",
   "metadata": {},
   "outputs": [
    {
     "data": {
      "text/html": [
       "<div>\n",
       "<style scoped>\n",
       "    .dataframe tbody tr th:only-of-type {\n",
       "        vertical-align: middle;\n",
       "    }\n",
       "\n",
       "    .dataframe tbody tr th {\n",
       "        vertical-align: top;\n",
       "    }\n",
       "\n",
       "    .dataframe thead th {\n",
       "        text-align: right;\n",
       "    }\n",
       "</style>\n",
       "<table border=\"1\" class=\"dataframe\">\n",
       "  <thead>\n",
       "    <tr style=\"text-align: right;\">\n",
       "      <th></th>\n",
       "      <th>type_of_data</th>\n",
       "      <th>innings</th>\n",
       "      <th>over_and_ball</th>\n",
       "      <th>batting_team</th>\n",
       "      <th>batsman</th>\n",
       "      <th>non_striker</th>\n",
       "      <th>bowler</th>\n",
       "      <th>runs_off_bat</th>\n",
       "      <th>extras</th>\n",
       "      <th>wides</th>\n",
       "      <th>no_balls</th>\n",
       "      <th>byes</th>\n",
       "      <th>leg_byes</th>\n",
       "      <th>penalty</th>\n",
       "      <th>kind_of_wicket</th>\n",
       "      <th>dismissed_player</th>\n",
       "      <th>match_date</th>\n",
       "      <th>match_number</th>\n",
       "    </tr>\n",
       "  </thead>\n",
       "  <tbody>\n",
       "    <tr>\n",
       "      <th>228</th>\n",
       "      <td>ball</td>\n",
       "      <td>2</td>\n",
       "      <td>17.3</td>\n",
       "      <td>Gujarat Titans</td>\n",
       "      <td>DA Miller</td>\n",
       "      <td>Shubman Gill</td>\n",
       "      <td>R Ashwin</td>\n",
       "      <td>1</td>\n",
       "      <td>0</td>\n",
       "      <td>NaN</td>\n",
       "      <td>NaN</td>\n",
       "      <td>NaN</td>\n",
       "      <td>NaN</td>\n",
       "      <td>NaN</td>\n",
       "      <td>NaN</td>\n",
       "      <td>NaN</td>\n",
       "      <td>2022-05-29</td>\n",
       "      <td>950</td>\n",
       "    </tr>\n",
       "    <tr>\n",
       "      <th>229</th>\n",
       "      <td>ball</td>\n",
       "      <td>2</td>\n",
       "      <td>17.4</td>\n",
       "      <td>Gujarat Titans</td>\n",
       "      <td>Shubman Gill</td>\n",
       "      <td>DA Miller</td>\n",
       "      <td>R Ashwin</td>\n",
       "      <td>0</td>\n",
       "      <td>0</td>\n",
       "      <td>NaN</td>\n",
       "      <td>NaN</td>\n",
       "      <td>NaN</td>\n",
       "      <td>NaN</td>\n",
       "      <td>NaN</td>\n",
       "      <td>NaN</td>\n",
       "      <td>NaN</td>\n",
       "      <td>2022-05-29</td>\n",
       "      <td>950</td>\n",
       "    </tr>\n",
       "    <tr>\n",
       "      <th>230</th>\n",
       "      <td>ball</td>\n",
       "      <td>2</td>\n",
       "      <td>17.5</td>\n",
       "      <td>Gujarat Titans</td>\n",
       "      <td>Shubman Gill</td>\n",
       "      <td>DA Miller</td>\n",
       "      <td>R Ashwin</td>\n",
       "      <td>1</td>\n",
       "      <td>0</td>\n",
       "      <td>NaN</td>\n",
       "      <td>NaN</td>\n",
       "      <td>NaN</td>\n",
       "      <td>NaN</td>\n",
       "      <td>NaN</td>\n",
       "      <td>NaN</td>\n",
       "      <td>NaN</td>\n",
       "      <td>2022-05-29</td>\n",
       "      <td>950</td>\n",
       "    </tr>\n",
       "    <tr>\n",
       "      <th>231</th>\n",
       "      <td>ball</td>\n",
       "      <td>2</td>\n",
       "      <td>17.6</td>\n",
       "      <td>Gujarat Titans</td>\n",
       "      <td>DA Miller</td>\n",
       "      <td>Shubman Gill</td>\n",
       "      <td>R Ashwin</td>\n",
       "      <td>2</td>\n",
       "      <td>0</td>\n",
       "      <td>NaN</td>\n",
       "      <td>NaN</td>\n",
       "      <td>NaN</td>\n",
       "      <td>NaN</td>\n",
       "      <td>NaN</td>\n",
       "      <td>NaN</td>\n",
       "      <td>NaN</td>\n",
       "      <td>2022-05-29</td>\n",
       "      <td>950</td>\n",
       "    </tr>\n",
       "    <tr>\n",
       "      <th>232</th>\n",
       "      <td>ball</td>\n",
       "      <td>2</td>\n",
       "      <td>18.1</td>\n",
       "      <td>Gujarat Titans</td>\n",
       "      <td>Shubman Gill</td>\n",
       "      <td>DA Miller</td>\n",
       "      <td>OC McCoy</td>\n",
       "      <td>6</td>\n",
       "      <td>0</td>\n",
       "      <td>NaN</td>\n",
       "      <td>NaN</td>\n",
       "      <td>NaN</td>\n",
       "      <td>NaN</td>\n",
       "      <td>NaN</td>\n",
       "      <td>NaN</td>\n",
       "      <td>NaN</td>\n",
       "      <td>2022-05-29</td>\n",
       "      <td>950</td>\n",
       "    </tr>\n",
       "  </tbody>\n",
       "</table>\n",
       "</div>"
      ],
      "text/plain": [
       "    type_of_data  innings  over_and_ball    batting_team       batsman  \\\n",
       "228         ball        2           17.3  Gujarat Titans     DA Miller   \n",
       "229         ball        2           17.4  Gujarat Titans  Shubman Gill   \n",
       "230         ball        2           17.5  Gujarat Titans  Shubman Gill   \n",
       "231         ball        2           17.6  Gujarat Titans     DA Miller   \n",
       "232         ball        2           18.1  Gujarat Titans  Shubman Gill   \n",
       "\n",
       "      non_striker    bowler  runs_off_bat  extras  wides  no_balls  byes  \\\n",
       "228  Shubman Gill  R Ashwin             1       0    NaN       NaN   NaN   \n",
       "229     DA Miller  R Ashwin             0       0    NaN       NaN   NaN   \n",
       "230     DA Miller  R Ashwin             1       0    NaN       NaN   NaN   \n",
       "231  Shubman Gill  R Ashwin             2       0    NaN       NaN   NaN   \n",
       "232     DA Miller  OC McCoy             6       0    NaN       NaN   NaN   \n",
       "\n",
       "     leg_byes  penalty kind_of_wicket dismissed_player match_date  \\\n",
       "228       NaN      NaN            NaN              NaN 2022-05-29   \n",
       "229       NaN      NaN            NaN              NaN 2022-05-29   \n",
       "230       NaN      NaN            NaN              NaN 2022-05-29   \n",
       "231       NaN      NaN            NaN              NaN 2022-05-29   \n",
       "232       NaN      NaN            NaN              NaN 2022-05-29   \n",
       "\n",
       "     match_number  \n",
       "228           950  \n",
       "229           950  \n",
       "230           950  \n",
       "231           950  \n",
       "232           950  "
      ]
     },
     "execution_count": 84,
     "metadata": {},
     "output_type": "execute_result"
    }
   ],
   "source": [
    "# check if data fetched properly\n",
    "\n",
    "main_dataframe.tail()"
   ]
  },
  {
   "cell_type": "markdown",
   "id": "55677132",
   "metadata": {},
   "source": [
    "## 2. Cleaning unwanted data and null values treatment"
   ]
  },
  {
   "cell_type": "code",
   "execution_count": 85,
   "id": "bb7d3742",
   "metadata": {},
   "outputs": [
    {
     "data": {
      "text/plain": [
       "ball    225954\n",
       "Name: type_of_data, dtype: int64"
      ]
     },
     "execution_count": 85,
     "metadata": {},
     "output_type": "execute_result"
    }
   ],
   "source": [
    "# check if we have got any info type of data \n",
    "\n",
    "main_dataframe.type_of_data.value_counts()"
   ]
  },
  {
   "cell_type": "code",
   "execution_count": 88,
   "id": "a6811308",
   "metadata": {},
   "outputs": [],
   "source": [
    "# removing unnecessary column\n",
    "\n",
    "main_dataframe=main_dataframe.drop('type_of_data',axis=1)"
   ]
  },
  {
   "cell_type": "code",
   "execution_count": 89,
   "id": "c2f40d20",
   "metadata": {
    "scrolled": false
   },
   "outputs": [
    {
     "name": "stdout",
     "output_type": "stream",
     "text": [
      "<class 'pandas.core.frame.DataFrame'>\n",
      "Int64Index: 225954 entries, 0 to 232\n",
      "Data columns (total 17 columns):\n",
      " #   Column            Non-Null Count   Dtype         \n",
      "---  ------            --------------   -----         \n",
      " 0   innings           225954 non-null  int64         \n",
      " 1   over_and_ball     225954 non-null  float64       \n",
      " 2   batting_team      225954 non-null  object        \n",
      " 3   batsman           225954 non-null  object        \n",
      " 4   non_striker       225954 non-null  object        \n",
      " 5   bowler            225954 non-null  object        \n",
      " 6   runs_off_bat      225954 non-null  int64         \n",
      " 7   extras            225954 non-null  int64         \n",
      " 8   wides             7026 non-null    float64       \n",
      " 9   no_balls          918 non-null     float64       \n",
      " 10  byes              583 non-null     float64       \n",
      " 11  leg_byes          3531 non-null    float64       \n",
      " 12  penalty           2 non-null       float64       \n",
      " 13  kind_of_wicket    11151 non-null   object        \n",
      " 14  dismissed_player  11151 non-null   object        \n",
      " 15  match_date        225954 non-null  datetime64[ns]\n",
      " 16  match_number      225954 non-null  int64         \n",
      "dtypes: datetime64[ns](1), float64(6), int64(4), object(6)\n",
      "memory usage: 31.0+ MB\n"
     ]
    }
   ],
   "source": [
    "# check columns, no. of rows, datatypes and missing values\n",
    "\n",
    "main_dataframe.info()"
   ]
  },
  {
   "cell_type": "code",
   "execution_count": 90,
   "id": "91a0bd85",
   "metadata": {},
   "outputs": [],
   "source": [
    "# treat missing values for different types of balls\n",
    "\n",
    "main_dataframe[['wides','no_balls','byes','leg_byes','penalty']]=main_dataframe[['wides','no_balls','byes','leg_byes','penalty']].fillna(0)"
   ]
  },
  {
   "cell_type": "code",
   "execution_count": 91,
   "id": "1ea51d01",
   "metadata": {},
   "outputs": [],
   "source": [
    "# treat missing values for wicket\n",
    "\n",
    "main_dataframe[['kind_of_wicket','dismissed_player']]=main_dataframe[['kind_of_wicket','dismissed_player']].fillna(\"No Wicket\")"
   ]
  },
  {
   "cell_type": "code",
   "execution_count": 92,
   "id": "2712e703",
   "metadata": {},
   "outputs": [
    {
     "name": "stdout",
     "output_type": "stream",
     "text": [
      "<class 'pandas.core.frame.DataFrame'>\n",
      "Int64Index: 225954 entries, 0 to 232\n",
      "Data columns (total 17 columns):\n",
      " #   Column            Non-Null Count   Dtype         \n",
      "---  ------            --------------   -----         \n",
      " 0   innings           225954 non-null  int64         \n",
      " 1   over_and_ball     225954 non-null  float64       \n",
      " 2   batting_team      225954 non-null  object        \n",
      " 3   batsman           225954 non-null  object        \n",
      " 4   non_striker       225954 non-null  object        \n",
      " 5   bowler            225954 non-null  object        \n",
      " 6   runs_off_bat      225954 non-null  int64         \n",
      " 7   extras            225954 non-null  int64         \n",
      " 8   wides             225954 non-null  float64       \n",
      " 9   no_balls          225954 non-null  float64       \n",
      " 10  byes              225954 non-null  float64       \n",
      " 11  leg_byes          225954 non-null  float64       \n",
      " 12  penalty           225954 non-null  float64       \n",
      " 13  kind_of_wicket    225954 non-null  object        \n",
      " 14  dismissed_player  225954 non-null  object        \n",
      " 15  match_date        225954 non-null  datetime64[ns]\n",
      " 16  match_number      225954 non-null  int64         \n",
      "dtypes: datetime64[ns](1), float64(6), int64(4), object(6)\n",
      "memory usage: 31.0+ MB\n"
     ]
    }
   ],
   "source": [
    "# check columns, no. of rows, datatypes and missing values\n",
    "\n",
    "main_dataframe.info()"
   ]
  },
  {
   "cell_type": "code",
   "execution_count": 93,
   "id": "ca0c54ff",
   "metadata": {},
   "outputs": [
    {
     "data": {
      "text/plain": [
       "1    116883\n",
       "2    108910\n",
       "3        77\n",
       "4        72\n",
       "5         8\n",
       "6         4\n",
       "Name: innings, dtype: int64"
      ]
     },
     "execution_count": 93,
     "metadata": {},
     "output_type": "execute_result"
    }
   ],
   "source": [
    "# check values for innings\n",
    "\n",
    "main_dataframe.innings.value_counts()"
   ]
  },
  {
   "cell_type": "code",
   "execution_count": 94,
   "id": "9f7abbd5",
   "metadata": {},
   "outputs": [],
   "source": [
    "# change datatype for innings\n",
    "\n",
    "main_dataframe.innings=main_dataframe.innings.apply(lambda x: int(x))"
   ]
  },
  {
   "cell_type": "code",
   "execution_count": 95,
   "id": "02a88c1e",
   "metadata": {},
   "outputs": [
    {
     "data": {
      "text/plain": [
       "array([ 0.1,  0.2,  0.3,  0.4,  0.5,  0.6,  0.7,  1.1,  1.2,  1.3,  1.4,\n",
       "        1.5,  1.6,  2.1,  2.2,  2.3,  2.4,  2.5,  2.6,  3.1,  3.2,  3.3,\n",
       "        3.4,  3.5,  3.6,  3.7,  4.1,  4.2,  4.3,  4.4,  4.5,  4.6,  5.1,\n",
       "        5.2,  5.3,  5.4,  5.5,  5.6,  6.1,  6.2,  6.3,  6.4,  6.5,  6.6,\n",
       "        7.1,  7.2,  7.3,  7.4,  7.5,  7.6,  8.1,  8.2,  8.3,  8.4,  8.5,\n",
       "        8.6,  9.1,  9.2,  9.3,  9.4,  9.5,  9.6, 10.1, 10.2, 10.3, 10.4,\n",
       "       10.5, 10.6, 11.1, 11.2, 11.3, 11.4, 11.5, 11.6, 12.1, 12.2, 12.3,\n",
       "       12.4, 12.5, 12.6, 12.7, 13.1, 13.2, 13.3, 13.4, 13.5, 13.6, 14.1,\n",
       "       14.2, 14.3, 14.4, 14.5, 14.6, 14.7, 15.1, 15.2, 15.3, 15.4, 15.5,\n",
       "       15.6, 16.1, 16.2, 16.3, 16.4, 16.5, 16.6, 17.1, 17.2, 17.3, 17.4,\n",
       "       17.5, 17.6, 18.1, 18.2, 18.3, 18.4, 18.5, 18.6, 19.1, 19.2, 19.3,\n",
       "       19.4, 19.5, 19.6,  2.7,  6.7,  6.8,  8.7,  8.8,  9.7,  1.7, 12.8,\n",
       "        5.7,  5.8, 13.7,  7.7,  4.7, 15.7, 13.8,  1.8, 16.7, 11.7, 11.8,\n",
       "       11.9, 19.7,  3.8, 17.7, 18.7,  0.8, 10.7, 10.8, 10.9, 18.8,  7.8,\n",
       "        2.8,  6.9,  1.9, 16.8, 16.9,  4.8,  5.9, 19.8, 19.9,  0.9, 18.9,\n",
       "       17.8, 14.8,  3.9, 15.8,  9.8, 17.9,  4.9, 14.9,  2.9, 13.9,  8.9,\n",
       "       15.9,  9.9,  7.9, 12.9])"
      ]
     },
     "execution_count": 95,
     "metadata": {},
     "output_type": "execute_result"
    }
   ],
   "source": [
    "# check unique values for over and ball\n",
    "\n",
    "main_dataframe.over_and_ball.unique()"
   ]
  },
  {
   "cell_type": "code",
   "execution_count": 96,
   "id": "504bcd90",
   "metadata": {},
   "outputs": [],
   "source": [
    "# change datatype for over_and_ball\n",
    "\n",
    "main_dataframe.over_and_ball=main_dataframe.over_and_ball.apply(lambda x: float(x))"
   ]
  },
  {
   "cell_type": "code",
   "execution_count": 97,
   "id": "72d65d22",
   "metadata": {},
   "outputs": [
    {
     "data": {
      "text/plain": [
       "array(['Kolkata Knight Riders', 'Royal Challengers Bangalore',\n",
       "       'Chennai Super Kings', 'Kings XI Punjab', 'Rajasthan Royals',\n",
       "       'Delhi Daredevils', 'Mumbai Indians', 'Deccan Chargers',\n",
       "       'Kochi Tuskers Kerala', 'Pune Warriors', 'Sunrisers Hyderabad',\n",
       "       'Rising Pune Supergiants', 'Gujarat Lions',\n",
       "       'Rising Pune Supergiant', 'Delhi Capitals', 'Punjab Kings',\n",
       "       'Lucknow Super Giants', 'Gujarat Titans'], dtype=object)"
      ]
     },
     "execution_count": 97,
     "metadata": {},
     "output_type": "execute_result"
    }
   ],
   "source": [
    "# check unique values for team names\n",
    "\n",
    "main_dataframe.batting_team.unique()"
   ]
  },
  {
   "cell_type": "code",
   "execution_count": 98,
   "id": "dfbfcd0b",
   "metadata": {},
   "outputs": [],
   "source": [
    "# fix wrong team name\n",
    "\n",
    "main_dataframe.batting_team=main_dataframe.batting_team.apply(lambda x : \"Rising Pune Supergiants\" if x==\"Rising Pune Supergiant\" else x)"
   ]
  },
  {
   "cell_type": "code",
   "execution_count": 99,
   "id": "d1889eb6",
   "metadata": {},
   "outputs": [
    {
     "data": {
      "text/plain": [
       "array(['Kolkata Knight Riders', 'Royal Challengers Bangalore',\n",
       "       'Chennai Super Kings', 'Kings XI Punjab', 'Rajasthan Royals',\n",
       "       'Delhi Daredevils', 'Mumbai Indians', 'Deccan Chargers',\n",
       "       'Kochi Tuskers Kerala', 'Pune Warriors', 'Sunrisers Hyderabad',\n",
       "       'Rising Pune Supergiants', 'Gujarat Lions', 'Delhi Capitals',\n",
       "       'Punjab Kings', 'Lucknow Super Giants', 'Gujarat Titans'],\n",
       "      dtype=object)"
      ]
     },
     "execution_count": 99,
     "metadata": {},
     "output_type": "execute_result"
    }
   ],
   "source": [
    "# check team names again\n",
    "\n",
    "main_dataframe.batting_team.unique()"
   ]
  },
  {
   "cell_type": "code",
   "execution_count": 100,
   "id": "02cbc940",
   "metadata": {},
   "outputs": [],
   "source": [
    "# create new column to indetify weather a ball had wicket or not\n",
    "\n",
    "main_dataframe['wickets']=(main_dataframe['kind_of_wicket']!='No Wicket').map({True:1,False:0})"
   ]
  },
  {
   "cell_type": "code",
   "execution_count": 101,
   "id": "c2cfe1e6",
   "metadata": {},
   "outputs": [],
   "source": [
    "# create new column to indetify weather a ball was 6 or not\n",
    "\n",
    "main_dataframe['six']=(main_dataframe['runs_off_bat']==6).map({True:1,False:0})"
   ]
  },
  {
   "cell_type": "code",
   "execution_count": 102,
   "id": "02bc5e44",
   "metadata": {},
   "outputs": [],
   "source": [
    "# create new column to indetify weather a ball was 4 or not\n",
    "\n",
    "main_dataframe['four']=(main_dataframe['runs_off_bat']==4).map({True:1,False:0})"
   ]
  },
  {
   "cell_type": "code",
   "execution_count": 103,
   "id": "6745724a",
   "metadata": {},
   "outputs": [],
   "source": [
    "# separating column over_and_ball to create 2 new columns\n",
    "\n",
    "main_dataframe['over']=main_dataframe['over_and_ball'].apply(lambda x: math.ceil(x))"
   ]
  },
  {
   "cell_type": "code",
   "execution_count": 104,
   "id": "5e3769c8",
   "metadata": {},
   "outputs": [],
   "source": [
    "# separating column over_and_ball to create 2 new columns\n",
    "\n",
    "main_dataframe['ball']=main_dataframe['over_and_ball'].apply(lambda x: int((x*10)%10))"
   ]
  },
  {
   "cell_type": "markdown",
   "id": "120840f6",
   "metadata": {},
   "source": [
    "## 3. EDA"
   ]
  },
  {
   "cell_type": "markdown",
   "id": "33bbe625",
   "metadata": {},
   "source": [
    "### 3.1.1 Most runs by a batsman in IPL"
   ]
  },
  {
   "cell_type": "code",
   "execution_count": 111,
   "id": "4bcb0521",
   "metadata": {},
   "outputs": [],
   "source": [
    "# get top 10 run scorers\n",
    "\n",
    "most_runs_batsman=main_dataframe[['batsman','runs_off_bat']].groupby([\"batsman\"], as_index=False).sum(numeric_only=True).sort_values(by='runs_off_bat',ascending=False).head(10)\n",
    "\n",
    "most_runs_batsman=most_runs_batsman.reset_index(drop=True)"
   ]
  },
  {
   "cell_type": "code",
   "execution_count": 112,
   "id": "5b978ddf",
   "metadata": {},
   "outputs": [
    {
     "data": {
      "image/png": "[encoded data removed]",
      "text/plain": [
       "<Figure size 1000x600 with 1 Axes>"
      ]
     },
     "metadata": {},
     "output_type": "display_data"
    }
   ],
   "source": [
    "plt.figure(figsize=(10,6))\n",
    "\n",
    "ax = sns.barplot(data=most_runs_batsman,x=\"runs_off_bat\",y=\"batsman\",orient=\"h\")\n",
    "ax.bar_label(ax.containers[0],label_type='edge',color='black', fontsize=10, padding=3)\n",
    "plt.show()"
   ]
  },
  {
   "cell_type": "markdown",
   "id": "0dbc69b3",
   "metadata": {},
   "source": [
    "### 3.1.2. Most 6s by a batsman in IPL"
   ]
  },
  {
   "cell_type": "code",
   "execution_count": 113,
   "id": "937851ce",
   "metadata": {},
   "outputs": [],
   "source": [
    "most_sixes_batsman=main_dataframe[[\"batsman\",\"six\"]].groupby(\"batsman\",as_index=False).sum(numeric_only=True).sort_values(by=\"six\",ascending=False).head(10).reset_index(drop=True)"
   ]
  },
  {
   "cell_type": "code",
   "execution_count": 114,
   "id": "6350ecdd",
   "metadata": {},
   "outputs": [
    {
     "data": {
      "image/png": "[encoded data removed]",
      "text/plain": [
       "<Figure size 1000x600 with 1 Axes>"
      ]
     },
     "metadata": {},
     "output_type": "display_data"
    }
   ],
   "source": [
    "plt.figure(figsize=(10,6))\n",
    "\n",
    "ax = sns.barplot(data=most_sixes_batsman,x=\"six\",y=\"batsman\",orient=\"h\")\n",
    "ax.bar_label(ax.containers[0],label_type='edge',color='black', fontsize=10, padding=3)\n",
    "plt.show()"
   ]
  },
  {
   "cell_type": "markdown",
   "id": "db1876a2",
   "metadata": {},
   "source": [
    "### 3.1.3. Most 4s by a batsman in IPL"
   ]
  },
  {
   "cell_type": "code",
   "execution_count": 115,
   "id": "43c47788",
   "metadata": {},
   "outputs": [],
   "source": [
    "most_fours_batsman=main_dataframe[[\"batsman\",\"four\"]].groupby(\"batsman\",as_index=False).sum(numeric_only=True).sort_values(by=\"four\",ascending=False).head(10).reset_index(drop=True)"
   ]
  },
  {
   "cell_type": "code",
   "execution_count": 116,
   "id": "c125c80e",
   "metadata": {},
   "outputs": [
    {
     "data": {
      "image/png": "[encoded data removed]",
      "text/plain": [
       "<Figure size 1000x600 with 1 Axes>"
      ]
     },
     "metadata": {},
     "output_type": "display_data"
    }
   ],
   "source": [
    "plt.figure(figsize=(10,6))\n",
    "\n",
    "ax = sns.barplot(data=most_fours_batsman,x=\"four\",y=\"batsman\",orient=\"h\")\n",
    "ax.bar_label(ax.containers[0],label_type='edge',color='black', fontsize=10, padding=3)\n",
    "plt.show()"
   ]
  },
  {
   "cell_type": "markdown",
   "id": "3ca1e12e",
   "metadata": {},
   "source": [
    "### 3.1.4. Highest strike rates for batsmen having 4000 runs "
   ]
  },
  {
   "cell_type": "code",
   "execution_count": 139,
   "id": "ce4545a3",
   "metadata": {},
   "outputs": [],
   "source": [
    "# adding a column to identify if the ball was faced by batsman or not to calculate strike rate \n",
    "\n",
    "main_dataframe['ball_faced_or_not']=main_dataframe[['extras','no_balls']].apply(lambda x : 1 if (x.extras==0) or (x.extras>1 and x.no_balls>1) else 0,axis=1)"
   ]
  },
  {
   "cell_type": "code",
   "execution_count": 148,
   "id": "175bf8c0",
   "metadata": {},
   "outputs": [],
   "source": [
    "highest_strike_rate_4000=main_dataframe[['batsman','runs_off_bat','ball_faced_or_not']].groupby([\"batsman\"], as_index=False).sum(numeric_only=True).sort_values(by='runs_off_bat',ascending=False)\n",
    "\n",
    "highest_strike_rate_4000=highest_strike_rate_4000[highest_strike_rate_4000.runs_off_bat>4000]\n",
    "\n",
    "highest_strike_rate_4000['sr']=highest_strike_rate_4000[['runs_off_bat','ball_faced_or_not']].apply(lambda x : (x.runs_off_bat/x.ball_faced_or_not)*100,axis=1)\n",
    "\n",
    "highest_strike_rate_4000=highest_strike_rate_4000.sort_values(by=\"sr\",ascending=False)\n",
    "\n",
    "highest_strike_rate_4000=highest_strike_rate_4000.reset_index(drop=True)"
   ]
  },
  {
   "cell_type": "code",
   "execution_count": 149,
   "id": "dec4e22a",
   "metadata": {},
   "outputs": [
    {
     "data": {
      "text/html": [
       "<div>\n",
       "<style scoped>\n",
       "    .dataframe tbody tr th:only-of-type {\n",
       "        vertical-align: middle;\n",
       "    }\n",
       "\n",
       "    .dataframe tbody tr th {\n",
       "        vertical-align: top;\n",
       "    }\n",
       "\n",
       "    .dataframe thead th {\n",
       "        text-align: right;\n",
       "    }\n",
       "</style>\n",
       "<table border=\"1\" class=\"dataframe\">\n",
       "  <thead>\n",
       "    <tr style=\"text-align: right;\">\n",
       "      <th></th>\n",
       "      <th>batsman</th>\n",
       "      <th>runs_off_bat</th>\n",
       "      <th>ball_faced_or_not</th>\n",
       "      <th>sr</th>\n",
       "    </tr>\n",
       "  </thead>\n",
       "  <tbody>\n",
       "    <tr>\n",
       "      <th>0</th>\n",
       "      <td>AB de Villiers</td>\n",
       "      <td>5181</td>\n",
       "      <td>3344</td>\n",
       "      <td>154.934211</td>\n",
       "    </tr>\n",
       "    <tr>\n",
       "      <th>1</th>\n",
       "      <td>CH Gayle</td>\n",
       "      <td>4997</td>\n",
       "      <td>3256</td>\n",
       "      <td>153.470516</td>\n",
       "    </tr>\n",
       "    <tr>\n",
       "      <th>2</th>\n",
       "      <td>DA Warner</td>\n",
       "      <td>5883</td>\n",
       "      <td>4086</td>\n",
       "      <td>143.979442</td>\n",
       "    </tr>\n",
       "    <tr>\n",
       "      <th>3</th>\n",
       "      <td>SK Raina</td>\n",
       "      <td>5536</td>\n",
       "      <td>3967</td>\n",
       "      <td>139.551298</td>\n",
       "    </tr>\n",
       "    <tr>\n",
       "      <th>4</th>\n",
       "      <td>MS Dhoni</td>\n",
       "      <td>4978</td>\n",
       "      <td>3589</td>\n",
       "      <td>138.701588</td>\n",
       "    </tr>\n",
       "    <tr>\n",
       "      <th>5</th>\n",
       "      <td>KD Karthik</td>\n",
       "      <td>4377</td>\n",
       "      <td>3230</td>\n",
       "      <td>135.510836</td>\n",
       "    </tr>\n",
       "    <tr>\n",
       "      <th>6</th>\n",
       "      <td>RV Uthappa</td>\n",
       "      <td>4954</td>\n",
       "      <td>3709</td>\n",
       "      <td>133.566999</td>\n",
       "    </tr>\n",
       "    <tr>\n",
       "      <th>7</th>\n",
       "      <td>RG Sharma</td>\n",
       "      <td>5881</td>\n",
       "      <td>4463</td>\n",
       "      <td>131.772350</td>\n",
       "    </tr>\n",
       "    <tr>\n",
       "      <th>8</th>\n",
       "      <td>V Kohli</td>\n",
       "      <td>6634</td>\n",
       "      <td>5069</td>\n",
       "      <td>130.873940</td>\n",
       "    </tr>\n",
       "    <tr>\n",
       "      <th>9</th>\n",
       "      <td>AT Rayudu</td>\n",
       "      <td>4190</td>\n",
       "      <td>3235</td>\n",
       "      <td>129.520866</td>\n",
       "    </tr>\n",
       "    <tr>\n",
       "      <th>10</th>\n",
       "      <td>S Dhawan</td>\n",
       "      <td>6244</td>\n",
       "      <td>4841</td>\n",
       "      <td>128.981615</td>\n",
       "    </tr>\n",
       "    <tr>\n",
       "      <th>11</th>\n",
       "      <td>G Gambhir</td>\n",
       "      <td>4217</td>\n",
       "      <td>3329</td>\n",
       "      <td>126.674677</td>\n",
       "    </tr>\n",
       "    <tr>\n",
       "      <th>12</th>\n",
       "      <td>AM Rahane</td>\n",
       "      <td>4074</td>\n",
       "      <td>3323</td>\n",
       "      <td>122.600060</td>\n",
       "    </tr>\n",
       "  </tbody>\n",
       "</table>\n",
       "</div>"
      ],
      "text/plain": [
       "           batsman  runs_off_bat  ball_faced_or_not          sr\n",
       "0   AB de Villiers          5181               3344  154.934211\n",
       "1         CH Gayle          4997               3256  153.470516\n",
       "2        DA Warner          5883               4086  143.979442\n",
       "3         SK Raina          5536               3967  139.551298\n",
       "4         MS Dhoni          4978               3589  138.701588\n",
       "5       KD Karthik          4377               3230  135.510836\n",
       "6       RV Uthappa          4954               3709  133.566999\n",
       "7        RG Sharma          5881               4463  131.772350\n",
       "8          V Kohli          6634               5069  130.873940\n",
       "9        AT Rayudu          4190               3235  129.520866\n",
       "10        S Dhawan          6244               4841  128.981615\n",
       "11       G Gambhir          4217               3329  126.674677\n",
       "12       AM Rahane          4074               3323  122.600060"
      ]
     },
     "execution_count": 149,
     "metadata": {},
     "output_type": "execute_result"
    }
   ],
   "source": [
    "highest_strike_rate_4000"
   ]
  },
  {
   "cell_type": "code",
   "execution_count": 150,
   "id": "1c901d9d",
   "metadata": {},
   "outputs": [
    {
     "data": {
      "image/png": "[encoded data removed]",
      "text/plain": [
       "<Figure size 1000x600 with 1 Axes>"
      ]
     },
     "metadata": {},
     "output_type": "display_data"
    }
   ],
   "source": [
    "plt.figure(figsize=(10,6))\n",
    "\n",
    "ax = sns.barplot(data=highest_strike_rate_4000,x=\"sr\",y=\"batsman\",orient=\"h\")\n",
    "ax.bar_label(ax.containers[0],label_type='edge',color='black', fontsize=10, padding=3)\n",
    "plt.show()"
   ]
  },
  {
   "cell_type": "markdown",
   "id": "8ed91a92",
   "metadata": {},
   "source": [
    "### 3.2.1 Most wickets by a bowler in IPL"
   ]
  },
  {
   "cell_type": "code",
   "execution_count": 151,
   "id": "fc4df0c5",
   "metadata": {},
   "outputs": [
    {
     "data": {
      "text/plain": [
       "Index(['innings', 'over_and_ball', 'batting_team', 'batsman', 'non_striker',\n",
       "       'bowler', 'runs_off_bat', 'extras', 'wides', 'no_balls', 'byes',\n",
       "       'leg_byes', 'penalty', 'kind_of_wicket', 'dismissed_player',\n",
       "       'match_date', 'match_number', 'wickets', 'six', 'four', 'over', 'ball',\n",
       "       'ball_faced_or_not'],\n",
       "      dtype='object')"
      ]
     },
     "execution_count": 151,
     "metadata": {},
     "output_type": "execute_result"
    }
   ],
   "source": [
    "main_dataframe.columns"
   ]
  },
  {
   "cell_type": "code",
   "execution_count": 153,
   "id": "6d16d5f2",
   "metadata": {},
   "outputs": [],
   "source": [
    "most_wickets_bowler=main_dataframe[[\"bowler\",\"wickets\"]].groupby(\"bowler\",as_index=False).sum(numeric_only=True).sort_values(by=\"wickets\",ascending=False).head(10).reset_index(drop=True)"
   ]
  },
  {
   "cell_type": "code",
   "execution_count": 154,
   "id": "98e72dcc",
   "metadata": {},
   "outputs": [
    {
     "data": {
      "image/png": "[encoded data removed]",
      "text/plain": [
       "<Figure size 1000x600 with 1 Axes>"
      ]
     },
     "metadata": {},
     "output_type": "display_data"
    }
   ],
   "source": [
    "plt.figure(figsize=(10,6))\n",
    "\n",
    "ax = sns.barplot(data=most_wickets_bowler,x=\"wickets\",y=\"bowler\",orient=\"h\")\n",
    "ax.bar_label(ax.containers[0],label_type='edge',color='black', fontsize=10, padding=3)\n",
    "plt.show()"
   ]
  },
  {
   "cell_type": "markdown",
   "id": "032020d1",
   "metadata": {},
   "source": [
    "### 3.2.2 Lowest economy rate for bowlers more than 100 overs"
   ]
  },
  {
   "cell_type": "code",
   "execution_count": 190,
   "id": "dfc0ba32",
   "metadata": {},
   "outputs": [],
   "source": [
    "bowler_data=main_dataframe[['bowler', 'runs_off_bat', 'extras', 'wides', 'no_balls', 'byes', 'leg_byes', 'wickets']]"
   ]
  },
  {
   "cell_type": "code",
   "execution_count": 191,
   "id": "3f6a7b1c",
   "metadata": {},
   "outputs": [
    {
     "data": {
      "text/html": [
       "<div>\n",
       "<style scoped>\n",
       "    .dataframe tbody tr th:only-of-type {\n",
       "        vertical-align: middle;\n",
       "    }\n",
       "\n",
       "    .dataframe tbody tr th {\n",
       "        vertical-align: top;\n",
       "    }\n",
       "\n",
       "    .dataframe thead th {\n",
       "        text-align: right;\n",
       "    }\n",
       "</style>\n",
       "<table border=\"1\" class=\"dataframe\">\n",
       "  <thead>\n",
       "    <tr style=\"text-align: right;\">\n",
       "      <th></th>\n",
       "      <th>bowler</th>\n",
       "      <th>runs_off_bat</th>\n",
       "      <th>extras</th>\n",
       "      <th>wides</th>\n",
       "      <th>no_balls</th>\n",
       "      <th>byes</th>\n",
       "      <th>leg_byes</th>\n",
       "      <th>wickets</th>\n",
       "    </tr>\n",
       "  </thead>\n",
       "  <tbody>\n",
       "    <tr>\n",
       "      <th>0</th>\n",
       "      <td>P Kumar</td>\n",
       "      <td>0</td>\n",
       "      <td>1</td>\n",
       "      <td>0.0</td>\n",
       "      <td>0.0</td>\n",
       "      <td>0.0</td>\n",
       "      <td>1.0</td>\n",
       "      <td>0</td>\n",
       "    </tr>\n",
       "    <tr>\n",
       "      <th>1</th>\n",
       "      <td>P Kumar</td>\n",
       "      <td>0</td>\n",
       "      <td>0</td>\n",
       "      <td>0.0</td>\n",
       "      <td>0.0</td>\n",
       "      <td>0.0</td>\n",
       "      <td>0.0</td>\n",
       "      <td>0</td>\n",
       "    </tr>\n",
       "    <tr>\n",
       "      <th>2</th>\n",
       "      <td>P Kumar</td>\n",
       "      <td>0</td>\n",
       "      <td>1</td>\n",
       "      <td>1.0</td>\n",
       "      <td>0.0</td>\n",
       "      <td>0.0</td>\n",
       "      <td>0.0</td>\n",
       "      <td>0</td>\n",
       "    </tr>\n",
       "    <tr>\n",
       "      <th>3</th>\n",
       "      <td>P Kumar</td>\n",
       "      <td>0</td>\n",
       "      <td>0</td>\n",
       "      <td>0.0</td>\n",
       "      <td>0.0</td>\n",
       "      <td>0.0</td>\n",
       "      <td>0.0</td>\n",
       "      <td>0</td>\n",
       "    </tr>\n",
       "    <tr>\n",
       "      <th>4</th>\n",
       "      <td>P Kumar</td>\n",
       "      <td>0</td>\n",
       "      <td>0</td>\n",
       "      <td>0.0</td>\n",
       "      <td>0.0</td>\n",
       "      <td>0.0</td>\n",
       "      <td>0.0</td>\n",
       "      <td>0</td>\n",
       "    </tr>\n",
       "    <tr>\n",
       "      <th>...</th>\n",
       "      <td>...</td>\n",
       "      <td>...</td>\n",
       "      <td>...</td>\n",
       "      <td>...</td>\n",
       "      <td>...</td>\n",
       "      <td>...</td>\n",
       "      <td>...</td>\n",
       "      <td>...</td>\n",
       "    </tr>\n",
       "    <tr>\n",
       "      <th>228</th>\n",
       "      <td>R Ashwin</td>\n",
       "      <td>1</td>\n",
       "      <td>0</td>\n",
       "      <td>0.0</td>\n",
       "      <td>0.0</td>\n",
       "      <td>0.0</td>\n",
       "      <td>0.0</td>\n",
       "      <td>0</td>\n",
       "    </tr>\n",
       "    <tr>\n",
       "      <th>229</th>\n",
       "      <td>R Ashwin</td>\n",
       "      <td>0</td>\n",
       "      <td>0</td>\n",
       "      <td>0.0</td>\n",
       "      <td>0.0</td>\n",
       "      <td>0.0</td>\n",
       "      <td>0.0</td>\n",
       "      <td>0</td>\n",
       "    </tr>\n",
       "    <tr>\n",
       "      <th>230</th>\n",
       "      <td>R Ashwin</td>\n",
       "      <td>1</td>\n",
       "      <td>0</td>\n",
       "      <td>0.0</td>\n",
       "      <td>0.0</td>\n",
       "      <td>0.0</td>\n",
       "      <td>0.0</td>\n",
       "      <td>0</td>\n",
       "    </tr>\n",
       "    <tr>\n",
       "      <th>231</th>\n",
       "      <td>R Ashwin</td>\n",
       "      <td>2</td>\n",
       "      <td>0</td>\n",
       "      <td>0.0</td>\n",
       "      <td>0.0</td>\n",
       "      <td>0.0</td>\n",
       "      <td>0.0</td>\n",
       "      <td>0</td>\n",
       "    </tr>\n",
       "    <tr>\n",
       "      <th>232</th>\n",
       "      <td>OC McCoy</td>\n",
       "      <td>6</td>\n",
       "      <td>0</td>\n",
       "      <td>0.0</td>\n",
       "      <td>0.0</td>\n",
       "      <td>0.0</td>\n",
       "      <td>0.0</td>\n",
       "      <td>0</td>\n",
       "    </tr>\n",
       "  </tbody>\n",
       "</table>\n",
       "<p>225954 rows × 8 columns</p>\n",
       "</div>"
      ],
      "text/plain": [
       "       bowler  runs_off_bat  extras  wides  no_balls  byes  leg_byes  wickets\n",
       "0     P Kumar             0       1    0.0       0.0   0.0       1.0        0\n",
       "1     P Kumar             0       0    0.0       0.0   0.0       0.0        0\n",
       "2     P Kumar             0       1    1.0       0.0   0.0       0.0        0\n",
       "3     P Kumar             0       0    0.0       0.0   0.0       0.0        0\n",
       "4     P Kumar             0       0    0.0       0.0   0.0       0.0        0\n",
       "..        ...           ...     ...    ...       ...   ...       ...      ...\n",
       "228  R Ashwin             1       0    0.0       0.0   0.0       0.0        0\n",
       "229  R Ashwin             0       0    0.0       0.0   0.0       0.0        0\n",
       "230  R Ashwin             1       0    0.0       0.0   0.0       0.0        0\n",
       "231  R Ashwin             2       0    0.0       0.0   0.0       0.0        0\n",
       "232  OC McCoy             6       0    0.0       0.0   0.0       0.0        0\n",
       "\n",
       "[225954 rows x 8 columns]"
      ]
     },
     "execution_count": 191,
     "metadata": {},
     "output_type": "execute_result"
    }
   ],
   "source": [
    "bowler_data"
   ]
  },
  {
   "cell_type": "code",
   "execution_count": 192,
   "id": "0c1b1032",
   "metadata": {},
   "outputs": [
    {
     "name": "stderr",
     "output_type": "stream",
     "text": [
      "C:\\Users\\khyat\\AppData\\Local\\Temp\\ipykernel_41220\\1239451414.py:1: SettingWithCopyWarning: \n",
      "A value is trying to be set on a copy of a slice from a DataFrame.\n",
      "Try using .loc[row_indexer,col_indexer] = value instead\n",
      "\n",
      "See the caveats in the documentation: https://pandas.pydata.org/pandas-docs/stable/user_guide/indexing.html#returning-a-view-versus-a-copy\n",
      "  bowler_data['fair_deilvery']=bowler_data[['wides','no_balls']].apply(lambda x : 1 if (x.wides==0 and x.no_balls==0) else 0, axis=1)\n"
     ]
    }
   ],
   "source": [
    "bowler_data['fair_deilvery']=bowler_data[['wides','no_balls']].apply(lambda x : 1 if (x.wides==0 and x.no_balls==0) else 0, axis=1)"
   ]
  },
  {
   "cell_type": "code",
   "execution_count": 193,
   "id": "37cfa772",
   "metadata": {},
   "outputs": [
    {
     "data": {
      "text/html": [
       "<div>\n",
       "<style scoped>\n",
       "    .dataframe tbody tr th:only-of-type {\n",
       "        vertical-align: middle;\n",
       "    }\n",
       "\n",
       "    .dataframe tbody tr th {\n",
       "        vertical-align: top;\n",
       "    }\n",
       "\n",
       "    .dataframe thead th {\n",
       "        text-align: right;\n",
       "    }\n",
       "</style>\n",
       "<table border=\"1\" class=\"dataframe\">\n",
       "  <thead>\n",
       "    <tr style=\"text-align: right;\">\n",
       "      <th></th>\n",
       "      <th>bowler</th>\n",
       "      <th>runs_off_bat</th>\n",
       "      <th>extras</th>\n",
       "      <th>wides</th>\n",
       "      <th>no_balls</th>\n",
       "      <th>byes</th>\n",
       "      <th>leg_byes</th>\n",
       "      <th>wickets</th>\n",
       "      <th>fair_deilvery</th>\n",
       "    </tr>\n",
       "  </thead>\n",
       "  <tbody>\n",
       "    <tr>\n",
       "      <th>0</th>\n",
       "      <td>P Kumar</td>\n",
       "      <td>0</td>\n",
       "      <td>1</td>\n",
       "      <td>0.0</td>\n",
       "      <td>0.0</td>\n",
       "      <td>0.0</td>\n",
       "      <td>1.0</td>\n",
       "      <td>0</td>\n",
       "      <td>1</td>\n",
       "    </tr>\n",
       "    <tr>\n",
       "      <th>1</th>\n",
       "      <td>P Kumar</td>\n",
       "      <td>0</td>\n",
       "      <td>0</td>\n",
       "      <td>0.0</td>\n",
       "      <td>0.0</td>\n",
       "      <td>0.0</td>\n",
       "      <td>0.0</td>\n",
       "      <td>0</td>\n",
       "      <td>1</td>\n",
       "    </tr>\n",
       "    <tr>\n",
       "      <th>2</th>\n",
       "      <td>P Kumar</td>\n",
       "      <td>0</td>\n",
       "      <td>1</td>\n",
       "      <td>1.0</td>\n",
       "      <td>0.0</td>\n",
       "      <td>0.0</td>\n",
       "      <td>0.0</td>\n",
       "      <td>0</td>\n",
       "      <td>0</td>\n",
       "    </tr>\n",
       "    <tr>\n",
       "      <th>3</th>\n",
       "      <td>P Kumar</td>\n",
       "      <td>0</td>\n",
       "      <td>0</td>\n",
       "      <td>0.0</td>\n",
       "      <td>0.0</td>\n",
       "      <td>0.0</td>\n",
       "      <td>0.0</td>\n",
       "      <td>0</td>\n",
       "      <td>1</td>\n",
       "    </tr>\n",
       "    <tr>\n",
       "      <th>4</th>\n",
       "      <td>P Kumar</td>\n",
       "      <td>0</td>\n",
       "      <td>0</td>\n",
       "      <td>0.0</td>\n",
       "      <td>0.0</td>\n",
       "      <td>0.0</td>\n",
       "      <td>0.0</td>\n",
       "      <td>0</td>\n",
       "      <td>1</td>\n",
       "    </tr>\n",
       "    <tr>\n",
       "      <th>...</th>\n",
       "      <td>...</td>\n",
       "      <td>...</td>\n",
       "      <td>...</td>\n",
       "      <td>...</td>\n",
       "      <td>...</td>\n",
       "      <td>...</td>\n",
       "      <td>...</td>\n",
       "      <td>...</td>\n",
       "      <td>...</td>\n",
       "    </tr>\n",
       "    <tr>\n",
       "      <th>228</th>\n",
       "      <td>R Ashwin</td>\n",
       "      <td>1</td>\n",
       "      <td>0</td>\n",
       "      <td>0.0</td>\n",
       "      <td>0.0</td>\n",
       "      <td>0.0</td>\n",
       "      <td>0.0</td>\n",
       "      <td>0</td>\n",
       "      <td>1</td>\n",
       "    </tr>\n",
       "    <tr>\n",
       "      <th>229</th>\n",
       "      <td>R Ashwin</td>\n",
       "      <td>0</td>\n",
       "      <td>0</td>\n",
       "      <td>0.0</td>\n",
       "      <td>0.0</td>\n",
       "      <td>0.0</td>\n",
       "      <td>0.0</td>\n",
       "      <td>0</td>\n",
       "      <td>1</td>\n",
       "    </tr>\n",
       "    <tr>\n",
       "      <th>230</th>\n",
       "      <td>R Ashwin</td>\n",
       "      <td>1</td>\n",
       "      <td>0</td>\n",
       "      <td>0.0</td>\n",
       "      <td>0.0</td>\n",
       "      <td>0.0</td>\n",
       "      <td>0.0</td>\n",
       "      <td>0</td>\n",
       "      <td>1</td>\n",
       "    </tr>\n",
       "    <tr>\n",
       "      <th>231</th>\n",
       "      <td>R Ashwin</td>\n",
       "      <td>2</td>\n",
       "      <td>0</td>\n",
       "      <td>0.0</td>\n",
       "      <td>0.0</td>\n",
       "      <td>0.0</td>\n",
       "      <td>0.0</td>\n",
       "      <td>0</td>\n",
       "      <td>1</td>\n",
       "    </tr>\n",
       "    <tr>\n",
       "      <th>232</th>\n",
       "      <td>OC McCoy</td>\n",
       "      <td>6</td>\n",
       "      <td>0</td>\n",
       "      <td>0.0</td>\n",
       "      <td>0.0</td>\n",
       "      <td>0.0</td>\n",
       "      <td>0.0</td>\n",
       "      <td>0</td>\n",
       "      <td>1</td>\n",
       "    </tr>\n",
       "  </tbody>\n",
       "</table>\n",
       "<p>225954 rows × 9 columns</p>\n",
       "</div>"
      ],
      "text/plain": [
       "       bowler  runs_off_bat  extras  wides  no_balls  byes  leg_byes  wickets  \\\n",
       "0     P Kumar             0       1    0.0       0.0   0.0       1.0        0   \n",
       "1     P Kumar             0       0    0.0       0.0   0.0       0.0        0   \n",
       "2     P Kumar             0       1    1.0       0.0   0.0       0.0        0   \n",
       "3     P Kumar             0       0    0.0       0.0   0.0       0.0        0   \n",
       "4     P Kumar             0       0    0.0       0.0   0.0       0.0        0   \n",
       "..        ...           ...     ...    ...       ...   ...       ...      ...   \n",
       "228  R Ashwin             1       0    0.0       0.0   0.0       0.0        0   \n",
       "229  R Ashwin             0       0    0.0       0.0   0.0       0.0        0   \n",
       "230  R Ashwin             1       0    0.0       0.0   0.0       0.0        0   \n",
       "231  R Ashwin             2       0    0.0       0.0   0.0       0.0        0   \n",
       "232  OC McCoy             6       0    0.0       0.0   0.0       0.0        0   \n",
       "\n",
       "     fair_deilvery  \n",
       "0                1  \n",
       "1                1  \n",
       "2                0  \n",
       "3                1  \n",
       "4                1  \n",
       "..             ...  \n",
       "228              1  \n",
       "229              1  \n",
       "230              1  \n",
       "231              1  \n",
       "232              1  \n",
       "\n",
       "[225954 rows x 9 columns]"
      ]
     },
     "execution_count": 193,
     "metadata": {},
     "output_type": "execute_result"
    }
   ],
   "source": [
    "bowler_data"
   ]
  },
  {
   "cell_type": "code",
   "execution_count": 194,
   "id": "c9726d01",
   "metadata": {},
   "outputs": [
    {
     "name": "stderr",
     "output_type": "stream",
     "text": [
      "C:\\Users\\khyat\\AppData\\Local\\Temp\\ipykernel_41220\\3921062560.py:1: SettingWithCopyWarning: \n",
      "A value is trying to be set on a copy of a slice from a DataFrame.\n",
      "Try using .loc[row_indexer,col_indexer] = value instead\n",
      "\n",
      "See the caveats in the documentation: https://pandas.pydata.org/pandas-docs/stable/user_guide/indexing.html#returning-a-view-versus-a-copy\n",
      "  bowler_data['runs_given']=bowler_data[['runs_off_bat','extras','byes','leg_byes']].apply(lambda x : (x.runs_off_bat+x.extras) if (x.byes==0 and x.leg_byes==0) else 0,axis=1)\n"
     ]
    }
   ],
   "source": [
    "bowler_data['runs_given']=bowler_data[['runs_off_bat','extras','byes','leg_byes']].apply(lambda x : (x.runs_off_bat+x.extras) if (x.byes==0 and x.leg_byes==0) else 0,axis=1)"
   ]
  },
  {
   "cell_type": "code",
   "execution_count": 195,
   "id": "88853d51",
   "metadata": {},
   "outputs": [
    {
     "data": {
      "text/html": [
       "<div>\n",
       "<style scoped>\n",
       "    .dataframe tbody tr th:only-of-type {\n",
       "        vertical-align: middle;\n",
       "    }\n",
       "\n",
       "    .dataframe tbody tr th {\n",
       "        vertical-align: top;\n",
       "    }\n",
       "\n",
       "    .dataframe thead th {\n",
       "        text-align: right;\n",
       "    }\n",
       "</style>\n",
       "<table border=\"1\" class=\"dataframe\">\n",
       "  <thead>\n",
       "    <tr style=\"text-align: right;\">\n",
       "      <th></th>\n",
       "      <th>bowler</th>\n",
       "      <th>runs_off_bat</th>\n",
       "      <th>extras</th>\n",
       "      <th>wides</th>\n",
       "      <th>no_balls</th>\n",
       "      <th>byes</th>\n",
       "      <th>leg_byes</th>\n",
       "      <th>wickets</th>\n",
       "      <th>fair_deilvery</th>\n",
       "      <th>runs_given</th>\n",
       "    </tr>\n",
       "  </thead>\n",
       "  <tbody>\n",
       "    <tr>\n",
       "      <th>0</th>\n",
       "      <td>P Kumar</td>\n",
       "      <td>0</td>\n",
       "      <td>1</td>\n",
       "      <td>0.0</td>\n",
       "      <td>0.0</td>\n",
       "      <td>0.0</td>\n",
       "      <td>1.0</td>\n",
       "      <td>0</td>\n",
       "      <td>1</td>\n",
       "      <td>0.0</td>\n",
       "    </tr>\n",
       "    <tr>\n",
       "      <th>1</th>\n",
       "      <td>P Kumar</td>\n",
       "      <td>0</td>\n",
       "      <td>0</td>\n",
       "      <td>0.0</td>\n",
       "      <td>0.0</td>\n",
       "      <td>0.0</td>\n",
       "      <td>0.0</td>\n",
       "      <td>0</td>\n",
       "      <td>1</td>\n",
       "      <td>0.0</td>\n",
       "    </tr>\n",
       "    <tr>\n",
       "      <th>2</th>\n",
       "      <td>P Kumar</td>\n",
       "      <td>0</td>\n",
       "      <td>1</td>\n",
       "      <td>1.0</td>\n",
       "      <td>0.0</td>\n",
       "      <td>0.0</td>\n",
       "      <td>0.0</td>\n",
       "      <td>0</td>\n",
       "      <td>0</td>\n",
       "      <td>1.0</td>\n",
       "    </tr>\n",
       "    <tr>\n",
       "      <th>3</th>\n",
       "      <td>P Kumar</td>\n",
       "      <td>0</td>\n",
       "      <td>0</td>\n",
       "      <td>0.0</td>\n",
       "      <td>0.0</td>\n",
       "      <td>0.0</td>\n",
       "      <td>0.0</td>\n",
       "      <td>0</td>\n",
       "      <td>1</td>\n",
       "      <td>0.0</td>\n",
       "    </tr>\n",
       "    <tr>\n",
       "      <th>4</th>\n",
       "      <td>P Kumar</td>\n",
       "      <td>0</td>\n",
       "      <td>0</td>\n",
       "      <td>0.0</td>\n",
       "      <td>0.0</td>\n",
       "      <td>0.0</td>\n",
       "      <td>0.0</td>\n",
       "      <td>0</td>\n",
       "      <td>1</td>\n",
       "      <td>0.0</td>\n",
       "    </tr>\n",
       "  </tbody>\n",
       "</table>\n",
       "</div>"
      ],
      "text/plain": [
       "    bowler  runs_off_bat  extras  wides  no_balls  byes  leg_byes  wickets  \\\n",
       "0  P Kumar             0       1    0.0       0.0   0.0       1.0        0   \n",
       "1  P Kumar             0       0    0.0       0.0   0.0       0.0        0   \n",
       "2  P Kumar             0       1    1.0       0.0   0.0       0.0        0   \n",
       "3  P Kumar             0       0    0.0       0.0   0.0       0.0        0   \n",
       "4  P Kumar             0       0    0.0       0.0   0.0       0.0        0   \n",
       "\n",
       "   fair_deilvery  runs_given  \n",
       "0              1         0.0  \n",
       "1              1         0.0  \n",
       "2              0         1.0  \n",
       "3              1         0.0  \n",
       "4              1         0.0  "
      ]
     },
     "execution_count": 195,
     "metadata": {},
     "output_type": "execute_result"
    }
   ],
   "source": [
    "bowler_data.head()"
   ]
  },
  {
   "cell_type": "code",
   "execution_count": 196,
   "id": "7ba90617",
   "metadata": {},
   "outputs": [],
   "source": [
    "bowler_economy_data = bowler_data[['bowler','fair_deilvery','runs_given']].groupby('bowler',as_index=False).sum(numeric_only=True)"
   ]
  },
  {
   "cell_type": "code",
   "execution_count": 198,
   "id": "ff29e857",
   "metadata": {},
   "outputs": [],
   "source": [
    "bowler_economy_data['overs_bowled']=bowler_economy_data['fair_deilvery'].apply(lambda x: x/6)"
   ]
  },
  {
   "cell_type": "code",
   "execution_count": 213,
   "id": "a395bc48",
   "metadata": {},
   "outputs": [],
   "source": [
    "bowler_economy_data['economy'] = bowler_economy_data[['overs_bowled','runs_given']].apply(lambda x : round(x.runs_given/x.overs_bowled,2),axis=1)"
   ]
  },
  {
   "cell_type": "code",
   "execution_count": 215,
   "id": "ce3acd09",
   "metadata": {},
   "outputs": [],
   "source": [
    "bowler_economy_data_100=bowler_economy_data[bowler_economy_data.overs_bowled>100]"
   ]
  },
  {
   "cell_type": "code",
   "execution_count": 216,
   "id": "5fd09e0f",
   "metadata": {},
   "outputs": [],
   "source": [
    "bowler_economy_data_100=bowler_economy_data_100.sort_values(by=\"economy\",ascending=True).head(10)"
   ]
  },
  {
   "cell_type": "code",
   "execution_count": 217,
   "id": "ab3e0a30",
   "metadata": {},
   "outputs": [
    {
     "data": {
      "text/html": [
       "<div>\n",
       "<style scoped>\n",
       "    .dataframe tbody tr th:only-of-type {\n",
       "        vertical-align: middle;\n",
       "    }\n",
       "\n",
       "    .dataframe tbody tr th {\n",
       "        vertical-align: top;\n",
       "    }\n",
       "\n",
       "    .dataframe thead th {\n",
       "        text-align: right;\n",
       "    }\n",
       "</style>\n",
       "<table border=\"1\" class=\"dataframe\">\n",
       "  <thead>\n",
       "    <tr style=\"text-align: right;\">\n",
       "      <th></th>\n",
       "      <th>bowler</th>\n",
       "      <th>fair_deilvery</th>\n",
       "      <th>runs_given</th>\n",
       "      <th>overs_bowled</th>\n",
       "      <th>economy</th>\n",
       "    </tr>\n",
       "  </thead>\n",
       "  <tbody>\n",
       "    <tr>\n",
       "      <th>356</th>\n",
       "      <td>Rashid Khan</td>\n",
       "      <td>2208</td>\n",
       "      <td>2348.0</td>\n",
       "      <td>368.000000</td>\n",
       "      <td>6.38</td>\n",
       "    </tr>\n",
       "    <tr>\n",
       "      <th>6</th>\n",
       "      <td>A Kumble</td>\n",
       "      <td>965</td>\n",
       "      <td>1058.0</td>\n",
       "      <td>160.833333</td>\n",
       "      <td>6.58</td>\n",
       "    </tr>\n",
       "    <tr>\n",
       "      <th>402</th>\n",
       "      <td>SP Narine</td>\n",
       "      <td>3463</td>\n",
       "      <td>3831.0</td>\n",
       "      <td>577.166667</td>\n",
       "      <td>6.64</td>\n",
       "    </tr>\n",
       "    <tr>\n",
       "      <th>243</th>\n",
       "      <td>M Muralitharan</td>\n",
       "      <td>1528</td>\n",
       "      <td>1706.0</td>\n",
       "      <td>254.666667</td>\n",
       "      <td>6.70</td>\n",
       "    </tr>\n",
       "    <tr>\n",
       "      <th>120</th>\n",
       "      <td>DL Vettori</td>\n",
       "      <td>777</td>\n",
       "      <td>879.0</td>\n",
       "      <td>129.500000</td>\n",
       "      <td>6.79</td>\n",
       "    </tr>\n",
       "    <tr>\n",
       "      <th>163</th>\n",
       "      <td>J Botha</td>\n",
       "      <td>694</td>\n",
       "      <td>800.0</td>\n",
       "      <td>115.666667</td>\n",
       "      <td>6.92</td>\n",
       "    </tr>\n",
       "    <tr>\n",
       "      <th>128</th>\n",
       "      <td>DW Steyn</td>\n",
       "      <td>2182</td>\n",
       "      <td>2523.0</td>\n",
       "      <td>363.666667</td>\n",
       "      <td>6.94</td>\n",
       "    </tr>\n",
       "    <tr>\n",
       "      <th>318</th>\n",
       "      <td>R Ashwin</td>\n",
       "      <td>3900</td>\n",
       "      <td>4534.0</td>\n",
       "      <td>650.000000</td>\n",
       "      <td>6.98</td>\n",
       "    </tr>\n",
       "    <tr>\n",
       "      <th>329</th>\n",
       "      <td>R Sharma</td>\n",
       "      <td>928</td>\n",
       "      <td>1086.0</td>\n",
       "      <td>154.666667</td>\n",
       "      <td>7.02</td>\n",
       "    </tr>\n",
       "    <tr>\n",
       "      <th>149</th>\n",
       "      <td>Harbhajan Singh</td>\n",
       "      <td>3416</td>\n",
       "      <td>4030.0</td>\n",
       "      <td>569.333333</td>\n",
       "      <td>7.08</td>\n",
       "    </tr>\n",
       "  </tbody>\n",
       "</table>\n",
       "</div>"
      ],
      "text/plain": [
       "              bowler  fair_deilvery  runs_given  overs_bowled  economy\n",
       "356      Rashid Khan           2208      2348.0    368.000000     6.38\n",
       "6           A Kumble            965      1058.0    160.833333     6.58\n",
       "402        SP Narine           3463      3831.0    577.166667     6.64\n",
       "243   M Muralitharan           1528      1706.0    254.666667     6.70\n",
       "120       DL Vettori            777       879.0    129.500000     6.79\n",
       "163          J Botha            694       800.0    115.666667     6.92\n",
       "128         DW Steyn           2182      2523.0    363.666667     6.94\n",
       "318         R Ashwin           3900      4534.0    650.000000     6.98\n",
       "329         R Sharma            928      1086.0    154.666667     7.02\n",
       "149  Harbhajan Singh           3416      4030.0    569.333333     7.08"
      ]
     },
     "execution_count": 217,
     "metadata": {},
     "output_type": "execute_result"
    }
   ],
   "source": [
    "bowler_economy_data_100"
   ]
  },
  {
   "cell_type": "code",
   "execution_count": 218,
   "id": "9e9f82a0",
   "metadata": {},
   "outputs": [
    {
     "data": {
      "image/png": "[encoded data removed]",
      "text/plain": [
       "<Figure size 1000x600 with 1 Axes>"
      ]
     },
     "metadata": {},
     "output_type": "display_data"
    }
   ],
   "source": [
    "plt.figure(figsize=(10,6))\n",
    "\n",
    "ax = sns.barplot(data=bowler_economy_data_100,x=\"economy\",y=\"bowler\",orient=\"h\")\n",
    "ax.bar_label(ax.containers[0],label_type='edge',color='black', fontsize=10, padding=3)\n",
    "plt.show()"
   ]
  },
  {
   "cell_type": "code",
   "execution_count": null,
   "id": "41df0a07",
   "metadata": {},
   "outputs": [],
   "source": []
  }
 ],
 "metadata": {
  "kernelspec": {
   "display_name": "Python 3 (ipykernel)",
   "language": "python",
   "name": "python3"
  },
  "language_info": {
   "codemirror_mode": {
    "name": "ipython",
    "version": 3
   },
   "file_extension": ".py",
   "mimetype": "text/x-python",
   "name": "python",
   "nbconvert_exporter": "python",
   "pygments_lexer": "ipython3",
   "version": "3.10.9"
  }
 },
 "nbformat": 4,
 "nbformat_minor": 5
}
